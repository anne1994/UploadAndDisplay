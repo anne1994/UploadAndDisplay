{
 "cells": [
  {
   "cell_type": "code",
   "execution_count": 1,
   "metadata": {
    "collapsed": true
   },
   "outputs": [],
   "source": [
    "import os"
   ]
  },
  {
   "cell_type": "code",
   "execution_count": 2,
   "metadata": {
    "collapsed": true
   },
   "outputs": [],
   "source": [
    "from flask import Flask, request, redirect, url_for, render_template\n",
    "from flask import send_from_directory"
   ]
  },
  {
   "cell_type": "code",
   "execution_count": 3,
   "metadata": {
    "collapsed": true
   },
   "outputs": [],
   "source": [
    "from werkzeug.utils import secure_filename"
   ]
  },
  {
   "cell_type": "code",
   "execution_count": 4,
   "metadata": {
    "collapsed": true
   },
   "outputs": [],
   "source": [
    "UPLOAD_FOLDER = 'C:/Users/Pictures/uploaded'\n",
    "ALLOWED_EXTENSIONS = set(['jpg', 'jpeg'])"
   ]
  },
  {
   "cell_type": "code",
   "execution_count": 5,
   "metadata": {
    "collapsed": true
   },
   "outputs": [],
   "source": [
    "app = Flask(__name__)\n",
    "app.config['UPLOAD_FOLDER'] = UPLOAD_FOLDER"
   ]
  },
  {
   "cell_type": "code",
   "execution_count": 6,
   "metadata": {
    "collapsed": true
   },
   "outputs": [],
   "source": [
    "def allowed_file(filename):\n",
    "    return '.' in filename and \\\n",
    "           filename.rsplit('.', 1)[1].lower() in ALLOWED_EXTENSIONS\n"
   ]
  },
  {
   "cell_type": "code",
   "execution_count": 8,
   "metadata": {},
   "outputs": [],
   "source": [
    "@app.route('/upload')\n",
    "def main():\n",
    "    return render_template('upload.html')\n",
    "\n",
    "@app.route('/upload/<filename>')\n",
    "def uploaded_file(filename):\n",
    "    return send_from_directory(app.config['UPLOAD_FOLDER'],\n",
    "                               filename)\n"
   ]
  },
  {
   "cell_type": "code",
   "execution_count": 9,
   "metadata": {
    "collapsed": true
   },
   "outputs": [],
   "source": [
    "@app.route('/uploader', methods=['GET','POST'])\n",
    "def upload_file():\n",
    "    if request.method == 'POST':\n",
    "        # check if the post request has the file part\n",
    "        #if 'file' not in request.files:\n",
    "            #flash('No file part')\n",
    "            #return redirect(request.url)\n",
    "        file = request.files['file']\n",
    "        # if user does not select file, browser also\n",
    "        # submit a empty part without filename\n",
    "        #if file.filename == '':\n",
    "            #flash('No selected file')\n",
    "            #return redirect(request.url)\n",
    "        if file and allowed_file(file.filename):\n",
    "            filename = secure_filename(file.filename)\n",
    "            #file_path = file.save(os.path.join(app.config['UPLOAD_FOLDER'], filename))\n",
    "            file.save(os.path.join(app.config['UPLOAD_FOLDER'], filename))\n",
    "            return redirect(url_for('uploaded_file',\n",
    "                                    filename=filename))\n",
    "    return '''\n",
    "    <!doctype html>\n",
    "    <title>Prescan Images Classification</title>\n",
    "    <h1>Upload new File</h1>\n",
    "    <form method=post enctype=multipart/form-data>\n",
    "      <p><input type=file name=file>\n",
    "         <input type=submit value=Upload>\n",
    "    </form>\n",
    "    '''\n",
    "          "
   ]
  },
  {
   "cell_type": "code",
   "execution_count": null,
   "metadata": {},
   "outputs": [
    {
     "name": "stderr",
     "output_type": "stream",
     "text": [
      " * Running on http://127.0.0.1:5000/ (Press CTRL+C to quit)\n",
      "127.0.0.1 - - [19/Jul/2017 17:18:38] \"POST /uploader HTTP/1.1\" 302 -\n",
      "127.0.0.1 - - [19/Jul/2017 17:18:38] \"GET /upload/Cat.jpg HTTP/1.1\" 200 -\n",
      "127.0.0.1 - - [19/Jul/2017 17:19:15] \"POST /uploader HTTP/1.1\" 302 -\n",
      "127.0.0.1 - - [19/Jul/2017 17:19:15] \"GET /upload/tile1.jpg HTTP/1.1\" 200 -\n",
      "127.0.0.1 - - [19/Jul/2017 17:19:18] \"GET /upload/tile1.jpg HTTP/1.1\" 304 -\n",
      "127.0.0.1 - - [19/Jul/2017 17:19:20] \"GET /upload/tile1.jpg HTTP/1.1\" 304 -\n",
      "127.0.0.1 - - [19/Jul/2017 17:19:22] \"GET /upload/tile1.jpg HTTP/1.1\" 304 -\n",
      "127.0.0.1 - - [19/Jul/2017 17:19:22] \"GET /upload/tile1.jpg HTTP/1.1\" 304 -\n",
      "127.0.0.1 - - [19/Jul/2017 17:20:35] \"POST /uploader HTTP/1.1\" 302 -\n",
      "127.0.0.1 - - [19/Jul/2017 17:20:35] \"GET /upload/tile2.jpg HTTP/1.1\" 200 -\n"
     ]
    }
   ],
   "source": [
    "if __name__ == '__main__':\n",
    "    app.run()"
   ]
  },
   "outputs": [],
   "source": []
  }
 ],
 "metadata": {
  "kernelspec": {
   "display_name": "Python 3",
   "language": "python",
   "name": "python3"
  },
  "language_info": {
   "codemirror_mode": {
    "name": "ipython",
    "version": 3
   },
   "file_extension": ".py",
   "mimetype": "text/x-python",
   "name": "python",
   "nbconvert_exporter": "python",
   "pygments_lexer": "ipython3",
   "version": "3.6.1"
  }
 },
 "nbformat": 4,
 "nbformat_minor": 2
}
